{
  "nbformat": 4,
  "nbformat_minor": 0,
  "metadata": {
    "colab": {
      "name": "Document Classification - Research Notes &  FAQs.ipynb",
      "provenance": [],
      "toc_visible": true,
      "include_colab_link": true
    },
    "kernelspec": {
      "name": "python3",
      "display_name": "Python 3"
    }
  },
  "cells": [
    {
      "cell_type": "markdown",
      "metadata": {
        "id": "view-in-github",
        "colab_type": "text"
      },
      "source": [
        "<a href=\"https://colab.research.google.com/github/NothinBetterToDo/nlp-basecamp/blob/main/Document_Classification_Research_Notes_%26_FAQs.ipynb\" target=\"_parent\"><img src=\"https://colab.research.google.com/assets/colab-badge.svg\" alt=\"Open In Colab\"/></a>"
      ]
    },
    {
      "cell_type": "markdown",
      "metadata": {
        "id": "wHDDvW7bNrLS"
      },
      "source": [
        "# Notes on References"
      ]
    },
    {
      "cell_type": "markdown",
      "metadata": {
        "id": "GRNASHc6y4z4"
      },
      "source": [
        "---------------------------------------\n",
        "### [Blog] - Better Sentiment Analysis with BERT\n"
      ]
    },
    {
      "cell_type": "markdown",
      "metadata": {
        "id": "3b_7q4QDLu6M"
      },
      "source": [
        "![Article still](http://www.mccormickml.com/assets/BERT/article_stills/Better_Sentiment%20Analysis_with_BERT.png)\n",
        "\n",
        "* Link: https://medium.com/southpigalle/how-to-perform-better-sentiment-analysis-with-bert-ba127081eda\n",
        "\n",
        "* Author: Marion Valette\n",
        "* Length: Very short\n",
        "* Date: April 29, 2019\n",
        "\n",
        "*Contents*\n",
        "* Explains, at a high level, how to use BERT for sentiment analysis using the IMDb movie review dataset as an example.\n",
        "    * She doesn't share the training code, but instead points to this Notebook available in the official BERT GitHub repo: [Predicting Movie Review Sentiment with BERT on TF Hub](https://github.com/google-research/bert/blob/master/predicting_movie_reviews_with_bert_on_tf_hub.ipynb)\n",
        "    * She confirms that BERT outperforms a couple other models that she tried (including a word2vec + part-of-speech tagging + CNN approach).\n",
        "* One unique piece is that she demonstrates how to set up the resulting fine-tuned model as a service with Docker.\n"
      ]
    },
    {
      "cell_type": "markdown",
      "metadata": {
        "id": "0E8jxvqpLwDV"
      },
      "source": [
        "------------------------\n",
        "### [Notebook] - Predicting Movie Review Sentiment with BERT on TF Hub\n"
      ]
    },
    {
      "cell_type": "markdown",
      "metadata": {
        "id": "q4u6AnebQSw2"
      },
      "source": [
        "\n",
        "![Notebook still](http://www.mccormickml.com/assets/BERT/article_stills/Predicting_Movie_Review_Sentiment_with_BERT_on_TF_Hub.png)\n",
        "\n",
        "* Link: https://github.com/google-research/bert/blob/master/predicting_movie_reviews_with_bert_on_tf_hub.ipynb\n",
        "* Author: Dale Quark ([twitter](https://twitter.com/dalequark?lang=en))\n",
        "* Date: Feb 12, 2019\n",
        "\n",
        "*Contents*\n",
        "\n",
        "* This Notebook is built on TensorFlow rather than PyTorch. \n",
        "   * Perhaps it's a good starter example for fine-tuning BERT for document classification if you want to use TensorFlow?\n",
        "\n"
      ]
    },
    {
      "cell_type": "markdown",
      "metadata": {
        "id": "FKL30hM-QEnH"
      },
      "source": [
        "--------\n",
        "### [GitHub Issue] - Using bert for Document Classification\n"
      ]
    },
    {
      "cell_type": "markdown",
      "metadata": {
        "id": "wD0qpNrwQQMY"
      },
      "source": [
        "\n",
        "Link: https://github.com/google-research/bert/issues/650\n",
        "\n",
        "*Contents*\n",
        "\n",
        "* This thread is where I first came across the paper on BERT for Document Classification, and the idea of chunking the documents."
      ]
    },
    {
      "cell_type": "markdown",
      "metadata": {
        "id": "X5MlD5ajfhkM"
      },
      "source": [
        "---------------------------------------------\n",
        "### [Paper & Library] DocBERT & Hedwig\n"
      ]
    },
    {
      "cell_type": "markdown",
      "metadata": {
        "id": "1XJsCWBjgNn4"
      },
      "source": [
        "\n",
        "\n",
        "**DocBERT**\n",
        "\n",
        "* Paper: https://arxiv.org/pdf/1904.08398.pdf\n",
        "    * April 2019\n",
        "* Claims State of the Art for Document Classification.\n",
        "\n",
        "**Hedwig**\n",
        "https://github.com/castorini/hedwig \n",
        "* Library created by the DocBERT authors supporting DocBERT and a number of other deep learning document classification models.\n",
        "\n",
        "Questions / TODOs:\n",
        "* How do they handle the input length problem? "
      ]
    },
    {
      "cell_type": "markdown",
      "metadata": {
        "id": "dl9QCtCuNx5O"
      },
      "source": [
        "# FAQs"
      ]
    },
    {
      "cell_type": "markdown",
      "metadata": {
        "id": "T15uGDFJN10Y"
      },
      "source": [
        "\n",
        "### How to use BERT for document classification?\n"
      ]
    },
    {
      "cell_type": "markdown",
      "metadata": {
        "id": "YuVAzSlbTSPQ"
      },
      "source": [
        "Locations:\n",
        "\n",
        "* “Going forward are you classifying sentences or whole documents like movie reviews?”\n",
        "   * Location: [YouTube - BERT Research - Ep. 3 - Fine Tuning - p.1](https://www.youtube.com/watch?v=x66kkDnbzi4&lc=Ugz0MR7-KhnWcbiqt954AaABAg) \n",
        "   * Asked by: Mariano Kamp, ~12/17/19\n",
        "   * There is some back-and-forth discussion on the topic by Mariano and myself.\n",
        "    \n",
        "\n",
        "* “Any suggestions how do we deal the classification of multiple sentences ???”\n",
        "    * Location: [YouTube - BERT Research - Ep. 3 - Fine Tuning - p.2](https://youtu.be/Hnvb9b7a_Ps) \n",
        "    * Asked by: Marvin Robinson, ~12/31/19\n",
        "\n",
        "* StackOverflow - “How to use Bert for long text classification?”\n",
        "   * Location: https://stackoverflow.com/questions/58636587/how-to-use-bert-for-long-text-classification\n",
        "\n"
      ]
    }
  ]
}